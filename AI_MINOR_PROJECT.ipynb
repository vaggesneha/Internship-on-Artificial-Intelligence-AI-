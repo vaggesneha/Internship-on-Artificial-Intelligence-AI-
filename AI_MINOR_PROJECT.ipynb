{
  "nbformat": 4,
  "nbformat_minor": 0,
  "metadata": {
    "colab": {
      "provenance": [],
      "include_colab_link": true
    },
    "kernelspec": {
      "name": "python3",
      "display_name": "Python 3"
    },
    "language_info": {
      "name": "python"
    }
  },
  "cells": [
    {
      "cell_type": "markdown",
      "metadata": {
        "id": "view-in-github",
        "colab_type": "text"
      },
      "source": [
        "<a href=\"https://colab.research.google.com/github/vaggesneha/Internship-on-Artificial-Intelligence-AI-/blob/main/AI_MINOR_PROJECT.ipynb\" target=\"_parent\"><img src=\"https://colab.research.google.com/assets/colab-badge.svg\" alt=\"Open In Colab\"/></a>"
      ]
    },
    {
      "cell_type": "markdown",
      "source": [
        "#              ***ARTIFICIAL INTELLIGENCE MINOR PROJECT!!***"
      ],
      "metadata": {
        "id": "cZ-hoPcRNie-"
      }
    },
    {
      "cell_type": "markdown",
      "source": [
        "***AIM/GOAL*** : To Create a model that will be able to recognize and determine the handwritten digits from its image by using the concepts of Artificial Neural Network."
      ],
      "metadata": {
        "id": "9VTHlUjYN2wd"
      }
    },
    {
      "cell_type": "markdown",
      "source": [
        "***What is MNIST dataset?***\n",
        "The MNIST dataset is an acronym that stands for the Modified National Institute of Standards and Technology dataset. It is a dataset of 60,000 small square 28×28 pixel grayscale images of handwritten single digits between 0 and 9."
      ],
      "metadata": {
        "id": "H-M4CN06ROfb"
      }
    },
    {
      "cell_type": "markdown",
      "source": [
        "***## Performing a digit classification to correctly identify digits from a dataset of tens of thousands of handwritten images from the MNIST dataset from keras.***"
      ],
      "metadata": {
        "id": "ZrF2YSM1SSWu"
      }
    },
    {
      "cell_type": "code",
      "source": [
        "import tensorflow as tf"
      ],
      "metadata": {
        "id": "BFW6jieQRbj1"
      },
      "execution_count": null,
      "outputs": []
    },
    {
      "cell_type": "code",
      "source": [
        " (x_train, y_train), (x_test, y_test) = tf.keras.datasets.mnist.load_data(path=\"mnist.npz\")"
      ],
      "metadata": {
        "id": "twm08e2dTfif"
      },
      "execution_count": null,
      "outputs": []
    },
    {
      "cell_type": "code",
      "source": [
        "print(x_train.shape)\n",
        "print(x_test.shape)"
      ],
      "metadata": {
        "colab": {
          "base_uri": "https://localhost:8080/"
        },
        "id": "gIolOj9HTfs2",
        "outputId": "60150588-8812-4eb4-d38f-263c1c923067"
      },
      "execution_count": null,
      "outputs": [
        {
          "output_type": "stream",
          "name": "stdout",
          "text": [
            "(60000, 28, 28)\n",
            "(10000, 28, 28)\n"
          ]
        }
      ]
    },
    {
      "cell_type": "code",
      "source": [
        "import matplotlib.pyplot as plt\n",
        "i = 3000\n",
        "plt.imshow(x_train[i],cmap = 'PiYG')\n",
        "plt.show()"
      ],
      "metadata": {
        "colab": {
          "base_uri": "https://localhost:8080/",
          "height": 265
        },
        "id": "wThT2uaHTfwW",
        "outputId": "bf29f924-39e9-4364-e8aa-75e60d999de0"
      },
      "execution_count": null,
      "outputs": [
        {
          "output_type": "display_data",
          "data": {
            "image/png": "[encoded data removed]",
            "text/plain": [
              "<Figure size 432x288 with 1 Axes>"
            ]
          },
          "metadata": {
            "needs_background": "light"
          }
        }
      ]
    },
    {
      "cell_type": "code",
      "source": [
        "i = 9456\n",
        "plt.imshow(x_train[i],cmap = 'Wistia')\n",
        "plt.show()"
      ],
      "metadata": {
        "colab": {
          "base_uri": "https://localhost:8080/",
          "height": 265
        },
        "id": "e5KZ3_FSTf3p",
        "outputId": "41118962-b3ec-48f8-bb4b-119d3abf0e95"
      },
      "execution_count": null,
      "outputs": [
        {
          "output_type": "display_data",
          "data": {
            "image/png": "[encoded data removed]",
            "text/plain": [
              "<Figure size 432x288 with 1 Axes>"
            ]
          },
          "metadata": {
            "needs_background": "light"
          }
        }
      ]
    },
    {
      "cell_type": "code",
      "source": [
        "i = 2457\n",
        "plt.imshow(x_train[i],cmap = 'Blues')\n",
        "plt.show()"
      ],
      "metadata": {
        "colab": {
          "base_uri": "https://localhost:8080/",
          "height": 265
        },
        "id": "QHlI18r2Ua1C",
        "outputId": "6eb9bfb0-958c-45e1-b9d3-92adbc8dfeb6"
      },
      "execution_count": null,
      "outputs": [
        {
          "output_type": "display_data",
          "data": {
            "image/png": "[encoded data removed]",
            "text/plain": [
              "<Figure size 432x288 with 1 Axes>"
            ]
          },
          "metadata": {
            "needs_background": "light"
          }
        }
      ]
    },
    {
      "cell_type": "code",
      "source": [
        "y_train"
      ],
      "metadata": {
        "colab": {
          "base_uri": "https://localhost:8080/"
        },
        "id": "D_A3AaiGUa9y",
        "outputId": "d350ee06-a325-444d-9dfa-5c9640755c85"
      },
      "execution_count": null,
      "outputs": [
        {
          "output_type": "execute_result",
          "data": {
            "text/plain": [
              "array([5, 0, 4, ..., 5, 6, 8], dtype=uint8)"
            ]
          },
          "metadata": {},
          "execution_count": 20
        }
      ]
    },
    {
      "cell_type": "code",
      "source": [
        "x_train[0]"
      ],
      "metadata": {
        "id": "TsIsGgPuWGfK"
      },
      "execution_count": null,
      "outputs": []
    },
    {
      "cell_type": "code",
      "source": [
        "x_train[0].max()"
      ],
      "metadata": {
        "colab": {
          "base_uri": "https://localhost:8080/"
        },
        "id": "IYXKO51TXb6S",
        "outputId": "259dc89f-e106-4422-9668-0b9d27d09811"
      },
      "execution_count": null,
      "outputs": [
        {
          "output_type": "execute_result",
          "data": {
            "text/plain": [
              "1.0"
            ]
          },
          "metadata": {},
          "execution_count": 34
        }
      ]
    },
    {
      "cell_type": "code",
      "source": [
        "x_train[0].min()"
      ],
      "metadata": {
        "colab": {
          "base_uri": "https://localhost:8080/"
        },
        "id": "elzlydTxXxHk",
        "outputId": "cf00758a-5dae-477a-8e25-5ddad1dff731"
      },
      "execution_count": null,
      "outputs": [
        {
          "output_type": "execute_result",
          "data": {
            "text/plain": [
              "0.0"
            ]
          },
          "metadata": {},
          "execution_count": 36
        }
      ]
    },
    {
      "cell_type": "code",
      "source": [
        "x_test[0].max()"
      ],
      "metadata": {
        "colab": {
          "base_uri": "https://localhost:8080/"
        },
        "id": "VpDtqrFHXb90",
        "outputId": "a8881068-60c5-45d3-de61-707338635377"
      },
      "execution_count": null,
      "outputs": [
        {
          "output_type": "execute_result",
          "data": {
            "text/plain": [
              "255"
            ]
          },
          "metadata": {},
          "execution_count": 33
        }
      ]
    },
    {
      "cell_type": "code",
      "source": [
        "x_test = x_test/255\n"
      ],
      "metadata": {
        "id": "PQIIazpIXxNW"
      },
      "execution_count": null,
      "outputs": []
    },
    {
      "cell_type": "code",
      "source": [
        "x_test[0].max()"
      ],
      "metadata": {
        "colab": {
          "base_uri": "https://localhost:8080/"
        },
        "id": "OZFxk2P-XcFQ",
        "outputId": "442f79b8-ae3b-4821-b6de-182866d506e0"
      },
      "execution_count": null,
      "outputs": [
        {
          "output_type": "execute_result",
          "data": {
            "text/plain": [
              "1.5378700499807765e-05"
            ]
          },
          "metadata": {},
          "execution_count": 41
        }
      ]
    },
    {
      "cell_type": "code",
      "source": [
        "x_test[0].min()"
      ],
      "metadata": {
        "colab": {
          "base_uri": "https://localhost:8080/"
        },
        "id": "qAS7dmnbYk_Z",
        "outputId": "82b55203-21ef-4b83-dfe0-a25b52cec2f7"
      },
      "execution_count": null,
      "outputs": [
        {
          "output_type": "execute_result",
          "data": {
            "text/plain": [
              "0.0"
            ]
          },
          "metadata": {},
          "execution_count": 42
        }
      ]
    },
    {
      "cell_type": "markdown",
      "source": [
        "# ***#CREATING A NEUTRAL NETWORK***"
      ],
      "metadata": {
        "id": "c5ATilAOZR4w"
      }
    },
    {
      "cell_type": "code",
      "source": [
        "# INPUT        = 784\n",
        "# HIDDEN LAYER = 532\n",
        "# OUTPUT       = 10"
      ],
      "metadata": {
        "id": "s7oC2YosYlFn"
      },
      "execution_count": null,
      "outputs": []
    },
    {
      "cell_type": "code",
      "source": [
        "from tensorflow import keras\n",
        "model = keras.models.Sequential()\n",
        "model.add(tf.keras.layers.Flatten(input_shape=x_train[0].shape))\n",
        "model.add(tf.keras.layers.Dense(532,activation='relu'))\n",
        "model.add(tf.keras.layers.Dense(10,activation='Softmax'))"
      ],
      "metadata": {
        "id": "xcreERz3YlJd"
      },
      "execution_count": null,
      "outputs": []
    },
    {
      "cell_type": "code",
      "source": [
        "model.compile(optimizer = 'adam',loss = 'sparse_categorical_crossentropy',metrics=['accuracy'])"
      ],
      "metadata": {
        "id": "KGxh158bYlRY"
      },
      "execution_count": null,
      "outputs": []
    },
    {
      "cell_type": "code",
      "source": [
        "history = model.fit(x_train,y_train,epochs=40)"
      ],
      "metadata": {
        "colab": {
          "base_uri": "https://localhost:8080/"
        },
        "id": "Eay5AQkWchyj",
        "outputId": "d917caba-a327-4674-ef04-7c3576d5d523"
      },
      "execution_count": null,
      "outputs": [
        {
          "output_type": "stream",
          "name": "stdout",
          "text": [
            "Epoch 1/40\n",
            "1875/1875 [==============================] - 9s 5ms/step - loss: 0.2000 - accuracy: 0.9417\n",
            "Epoch 2/40\n",
            "1875/1875 [==============================] - 8s 4ms/step - loss: 0.0787 - accuracy: 0.9757\n",
            "Epoch 3/40\n",
            "1875/1875 [==============================] - 8s 4ms/step - loss: 0.0507 - accuracy: 0.9840\n",
            "Epoch 4/40\n",
            "1875/1875 [==============================] - 8s 4ms/step - loss: 0.0368 - accuracy: 0.9879\n",
            "Epoch 5/40\n",
            "1875/1875 [==============================] - 9s 5ms/step - loss: 0.0269 - accuracy: 0.9913\n",
            "Epoch 6/40\n",
            "1875/1875 [==============================] - 8s 4ms/step - loss: 0.0214 - accuracy: 0.9932\n",
            "Epoch 7/40\n",
            "1875/1875 [==============================] - 8s 4ms/step - loss: 0.0161 - accuracy: 0.9948\n",
            "Epoch 8/40\n",
            "1875/1875 [==============================] - 8s 4ms/step - loss: 0.0154 - accuracy: 0.9947\n",
            "Epoch 9/40\n",
            "1875/1875 [==============================] - 8s 4ms/step - loss: 0.0119 - accuracy: 0.9962\n",
            "Epoch 10/40\n",
            "1875/1875 [==============================] - 7s 4ms/step - loss: 0.0112 - accuracy: 0.9962\n",
            "Epoch 11/40\n",
            "1875/1875 [==============================] - 8s 4ms/step - loss: 0.0088 - accuracy: 0.9971\n",
            "Epoch 12/40\n",
            "1875/1875 [==============================] - 8s 4ms/step - loss: 0.0101 - accuracy: 0.9964\n",
            "Epoch 13/40\n",
            "1875/1875 [==============================] - 8s 4ms/step - loss: 0.0081 - accuracy: 0.9974\n",
            "Epoch 14/40\n",
            "1875/1875 [==============================] - 7s 4ms/step - loss: 0.0091 - accuracy: 0.9970\n",
            "Epoch 15/40\n",
            "1875/1875 [==============================] - 7s 4ms/step - loss: 0.0064 - accuracy: 0.9978\n",
            "Epoch 16/40\n",
            "1875/1875 [==============================] - 7s 4ms/step - loss: 0.0075 - accuracy: 0.9975\n",
            "Epoch 17/40\n",
            "1875/1875 [==============================] - 7s 4ms/step - loss: 0.0077 - accuracy: 0.9974\n",
            "Epoch 18/40\n",
            "1875/1875 [==============================] - 7s 4ms/step - loss: 0.0049 - accuracy: 0.9984\n",
            "Epoch 19/40\n",
            "1875/1875 [==============================] - 8s 4ms/step - loss: 0.0083 - accuracy: 0.9973\n",
            "Epoch 20/40\n",
            "1875/1875 [==============================] - 8s 4ms/step - loss: 0.0058 - accuracy: 0.9981\n",
            "Epoch 21/40\n",
            "1875/1875 [==============================] - 8s 4ms/step - loss: 0.0060 - accuracy: 0.9983\n",
            "Epoch 22/40\n",
            "1875/1875 [==============================] - 8s 4ms/step - loss: 0.0060 - accuracy: 0.9982\n",
            "Epoch 23/40\n",
            "1875/1875 [==============================] - 7s 4ms/step - loss: 0.0038 - accuracy: 0.9987\n",
            "Epoch 24/40\n",
            "1875/1875 [==============================] - 7s 4ms/step - loss: 0.0050 - accuracy: 0.9983\n",
            "Epoch 25/40\n",
            "1875/1875 [==============================] - 7s 4ms/step - loss: 0.0065 - accuracy: 0.9980\n",
            "Epoch 26/40\n",
            "1875/1875 [==============================] - 8s 4ms/step - loss: 0.0058 - accuracy: 0.9982\n",
            "Epoch 27/40\n",
            "1875/1875 [==============================] - 8s 4ms/step - loss: 0.0056 - accuracy: 0.9982\n",
            "Epoch 28/40\n",
            "1875/1875 [==============================] - 7s 4ms/step - loss: 0.0050 - accuracy: 0.9983\n",
            "Epoch 29/40\n",
            "1875/1875 [==============================] - 7s 4ms/step - loss: 0.0034 - accuracy: 0.9990\n",
            "Epoch 30/40\n",
            "1875/1875 [==============================] - 7s 4ms/step - loss: 0.0067 - accuracy: 0.9980\n",
            "Epoch 31/40\n",
            "1875/1875 [==============================] - 8s 4ms/step - loss: 0.0036 - accuracy: 0.9989\n",
            "Epoch 32/40\n",
            "1875/1875 [==============================] - 7s 4ms/step - loss: 0.0048 - accuracy: 0.9986\n",
            "Epoch 33/40\n",
            "1875/1875 [==============================] - 7s 4ms/step - loss: 0.0041 - accuracy: 0.9988\n",
            "Epoch 34/40\n",
            "1875/1875 [==============================] - 7s 4ms/step - loss: 0.0042 - accuracy: 0.9989\n",
            "Epoch 35/40\n",
            "1875/1875 [==============================] - 7s 4ms/step - loss: 0.0056 - accuracy: 0.9985\n",
            "Epoch 36/40\n",
            "1875/1875 [==============================] - 7s 4ms/step - loss: 0.0045 - accuracy: 0.9987\n",
            "Epoch 37/40\n",
            "1875/1875 [==============================] - 7s 4ms/step - loss: 0.0041 - accuracy: 0.9989\n",
            "Epoch 38/40\n",
            "1875/1875 [==============================] - 7s 4ms/step - loss: 0.0044 - accuracy: 0.9987\n",
            "Epoch 39/40\n",
            "1875/1875 [==============================] - 7s 4ms/step - loss: 0.0044 - accuracy: 0.9988\n",
            "Epoch 40/40\n",
            "1875/1875 [==============================] - 7s 4ms/step - loss: 0.0044 - accuracy: 0.9988\n"
          ]
        }
      ]
    },
    {
      "cell_type": "code",
      "source": [
        "model.get_weights()      # These are the optimized weights after training"
      ],
      "metadata": {
        "colab": {
          "base_uri": "https://localhost:8080/"
        },
        "id": "OtYor88acidG",
        "outputId": "835b3c91-89ef-4afe-dde1-035c7dc7328a"
      },
      "execution_count": null,
      "outputs": [
        {
          "output_type": "execute_result",
          "data": {
            "text/plain": [
              "[array([[ 0.05807775, -0.05084514,  0.02534238, ..., -0.03308657,\n",
              "          0.03844172, -0.05087446],\n",
              "        [ 0.00564978, -0.0552972 ,  0.00332887, ...,  0.04509298,\n",
              "         -0.06724194, -0.0105161 ],\n",
              "        [-0.06487837, -0.04193745,  0.03978606, ..., -0.01666513,\n",
              "         -0.02158164, -0.04250605],\n",
              "        ...,\n",
              "        [-0.01844642, -0.0350328 ,  0.01173855, ..., -0.05528641,\n",
              "          0.02898563,  0.04596812],\n",
              "        [-0.04076502, -0.04662344, -0.0343446 , ..., -0.03704272,\n",
              "         -0.05608761, -0.05056317],\n",
              "        [ 0.01816417,  0.03235694,  0.00663717, ...,  0.04911486,\n",
              "         -0.03371942, -0.02917106]], dtype=float32),\n",
              " array([-3.20026278e-01, -1.80039927e-01,  2.36328226e-02, -1.43783363e-02,\n",
              "        -7.35791326e-02, -2.94424325e-01, -2.69536287e-01, -2.99484264e-02,\n",
              "        -5.55484323e-03,  1.79417834e-01,  2.21822336e-01, -7.48165250e-02,\n",
              "         5.92066199e-02,  1.28449360e-02,  5.24825677e-02, -1.33524938e-02,\n",
              "        -5.56726456e-01, -4.26762179e-02, -7.32140709e-03,  5.13692237e-02,\n",
              "         1.15839452e-01, -2.52840936e-01,  5.19073866e-02, -6.69427514e-02,\n",
              "         1.92647934e-01,  9.69014093e-02,  9.67285857e-02, -1.32047027e-01,\n",
              "        -1.54366091e-01, -9.50116590e-02, -1.26331508e-01,  1.11092947e-01,\n",
              "         6.18340354e-03, -1.26718670e-01, -1.29433468e-01, -2.02681273e-01,\n",
              "        -1.26195848e-02,  6.85260743e-02, -1.16841562e-01,  7.79816210e-02,\n",
              "        -3.35003704e-01, -2.38247052e-01,  5.86713366e-02, -5.14046997e-02,\n",
              "        -1.97747990e-01,  1.22838780e-01, -7.17438236e-02, -1.55380936e-02,\n",
              "        -3.24777588e-02,  1.14137873e-01, -2.17434540e-01, -2.94062853e-01,\n",
              "        -2.22689196e-01, -1.32943347e-01,  5.98268397e-02, -3.73810567e-02,\n",
              "        -1.09765589e-01,  3.48683521e-02, -2.14559421e-01, -1.31975666e-01,\n",
              "         2.38159642e-01, -3.91060952e-03, -3.44927371e-01, -1.57327592e-01,\n",
              "         1.17908999e-01, -1.48951886e-02, -8.71064737e-02,  5.61527833e-02,\n",
              "         8.12937245e-02, -1.91723734e-01, -1.31194964e-01,  1.19988076e-01,\n",
              "         9.01319161e-02,  7.80765712e-02,  2.04429224e-01, -7.98366740e-02,\n",
              "        -3.28098267e-01,  3.42637561e-02, -1.96504146e-01,  1.04026005e-01,\n",
              "        -7.67912269e-02, -6.40867501e-02, -3.90751734e-02, -1.89291969e-01,\n",
              "         1.08904786e-01,  8.08990076e-02,  2.66324449e-02, -1.29735023e-01,\n",
              "        -2.23027363e-01, -4.24636006e-02, -1.35551602e-01, -1.51148319e-01,\n",
              "         1.12105116e-01,  5.29042184e-02,  4.76368219e-02,  1.22009693e-02,\n",
              "         1.85805127e-01,  1.16833732e-01, -9.88472104e-02,  3.04787993e-01,\n",
              "        -1.34219214e-01,  6.19493835e-02, -8.05427972e-03,  1.91777479e-03,\n",
              "        -2.67702807e-02,  1.20743684e-01, -1.06568132e-02, -5.02933003e-02,\n",
              "        -2.78824240e-01, -5.69583252e-02, -2.57740002e-02,  1.47430524e-01,\n",
              "         4.76965159e-02, -8.58286023e-02, -8.73895809e-02, -6.24104515e-02,\n",
              "        -1.73354879e-01, -1.56617627e-01,  6.07709698e-02, -1.60004541e-01,\n",
              "        -2.61468947e-01, -7.69871026e-02, -1.73976049e-02, -5.19556515e-02,\n",
              "         6.72210753e-02,  7.75887817e-02, -2.26955097e-02,  2.49310620e-02,\n",
              "        -4.91688102e-02, -9.43349898e-02, -6.76369667e-02,  1.36608509e-02,\n",
              "        -6.52689263e-02, -2.12018713e-01, -1.15189990e-02,  9.57449079e-02,\n",
              "        -5.48726227e-03, -2.21236199e-01, -2.32407562e-02, -1.20763287e-01,\n",
              "        -8.01091865e-02,  1.10571958e-01, -6.32389961e-03,  1.92982219e-02,\n",
              "        -1.77492693e-01, -4.09915239e-01, -1.93688646e-01,  2.65562125e-02,\n",
              "         5.96853346e-02,  2.14945208e-02, -1.07263960e-02,  8.25279877e-02,\n",
              "        -3.45457852e-01, -2.36172993e-02, -3.22123896e-03, -1.88457936e-01,\n",
              "         1.14432715e-01, -1.43539399e-01,  2.93888375e-02,  1.34697482e-02,\n",
              "        -1.49895232e-02,  5.46768978e-02,  8.04168638e-03,  1.66406825e-01,\n",
              "        -1.73711196e-01,  4.14523780e-02, -2.52433047e-02,  9.04388279e-02,\n",
              "         2.67574847e-01, -1.29501462e-01, -2.96979129e-01,  5.86026860e-03,\n",
              "        -8.08976963e-02, -1.64575234e-01,  1.02347031e-01,  5.47230802e-02,\n",
              "         1.98272288e-01, -1.04626633e-01, -9.39120129e-02, -1.38284534e-01,\n",
              "         1.10745683e-01,  2.32338682e-01, -1.59678329e-02, -2.97053665e-01,\n",
              "         3.12066227e-01, -2.17598870e-01, -1.42296448e-01, -3.90715711e-02,\n",
              "         1.36957675e-01, -1.99136660e-02, -3.00389409e-01, -1.31470457e-01,\n",
              "        -3.64543088e-02,  7.67172650e-02,  1.98340893e-01, -1.72873437e-02,\n",
              "        -2.70340592e-02, -1.02093086e-01, -3.18281919e-01, -9.17165205e-02,\n",
              "        -2.01936625e-02,  5.98553978e-02, -2.56956667e-01, -1.23322941e-01,\n",
              "         6.87156841e-02, -3.62799950e-02, -1.29574478e-01,  2.48178244e-01,\n",
              "        -1.97226435e-01,  7.53349289e-02, -1.84648067e-01, -6.65849224e-02,\n",
              "        -9.23437700e-02, -2.50551909e-01, -1.26439288e-01,  1.28510937e-01,\n",
              "        -1.48941770e-01,  1.62112340e-01, -2.73511261e-01, -1.05581775e-01,\n",
              "        -1.05637059e-01,  1.06622025e-01, -1.39978036e-01, -1.82703152e-01,\n",
              "         7.68801868e-02, -1.16924569e-01, -1.15864284e-01, -2.05443785e-01,\n",
              "         2.46710151e-01, -1.24119490e-01, -2.39428738e-03, -7.92759135e-02,\n",
              "        -1.10431261e-01, -8.27522352e-02, -1.34044752e-01, -1.66617602e-01,\n",
              "        -1.46835551e-01, -8.90592486e-02,  9.72808525e-02, -1.82795435e-01,\n",
              "         2.30500568e-02, -1.18416421e-01,  2.07012400e-01, -2.90840358e-01,\n",
              "         1.40929252e-01, -3.21963221e-01, -1.12592474e-01,  1.08843490e-01,\n",
              "         1.19604953e-01,  7.98784867e-02, -1.90035091e-03, -2.75061699e-03,\n",
              "        -1.18817808e-02, -8.30870420e-02,  2.76045859e-01, -5.95409051e-02,\n",
              "        -7.89358988e-02, -2.74861097e-01, -1.09367538e-02, -7.84468874e-02,\n",
              "        -1.40458271e-01, -4.45605107e-02, -9.73354653e-02, -1.49582922e-01,\n",
              "         8.60959515e-02,  3.30315642e-02, -2.15303898e-02,  1.22510575e-01,\n",
              "         9.36493501e-02,  1.19312167e-01, -2.32870743e-01,  1.16436355e-01,\n",
              "        -1.38141885e-01, -1.32344857e-01, -1.90433592e-01, -5.33370227e-02,\n",
              "        -3.89410287e-01, -8.78483057e-02, -2.15128914e-01, -1.93040594e-01,\n",
              "         3.73191126e-02,  6.17285073e-02, -1.09524406e-01, -1.72579065e-01,\n",
              "        -1.13011047e-01,  4.58471291e-02, -8.38302262e-03, -1.81778461e-01,\n",
              "        -8.45600218e-02, -4.75594103e-02, -1.86935380e-01, -8.71478319e-02,\n",
              "        -1.12386875e-01, -1.33649141e-01, -6.10267669e-02, -1.13689406e-02,\n",
              "        -1.19006723e-01, -1.39444694e-01, -9.70192160e-03, -1.08541548e-01,\n",
              "        -1.30427241e-01, -9.83567387e-02, -1.57241467e-02,  6.54507652e-02,\n",
              "        -1.13296583e-02, -2.21459806e-01, -2.08862517e-02,  2.44620442e-02,\n",
              "         1.15802892e-01, -1.35358825e-01, -1.81918800e-01, -2.74024129e-01,\n",
              "        -1.26142055e-01, -3.41650806e-02, -2.89680548e-02, -1.23025380e-01,\n",
              "        -2.04272661e-02,  4.22883660e-01, -1.67807490e-01, -3.91076133e-02,\n",
              "         1.73999339e-01,  4.62017730e-02, -7.40030780e-02, -3.58142823e-01,\n",
              "         2.22082413e-03,  5.63544128e-03, -8.75933990e-02, -3.70326638e-02,\n",
              "        -2.42844835e-01,  2.11122155e-04,  1.32060543e-01,  1.32115349e-01,\n",
              "        -4.38642561e-01,  5.83399311e-02,  1.17922068e-01,  1.11529119e-01,\n",
              "         1.33620471e-01, -1.80764139e-01,  1.16409808e-02, -8.58467221e-02,\n",
              "        -1.17602311e-02, -1.46194607e-01, -2.93332785e-02,  1.22259364e-01,\n",
              "        -1.92082953e-02, -2.36332640e-01, -1.41086698e-01, -9.85599533e-02,\n",
              "         6.38740212e-02,  7.36740306e-02,  1.15583558e-02, -1.77017152e-02,\n",
              "         5.85718527e-02, -8.96357223e-02, -3.08171868e-01,  9.21169743e-02,\n",
              "        -1.57537550e-01,  2.19792977e-01, -1.16966283e-02, -5.29288761e-02,\n",
              "        -2.18559727e-01, -2.06547931e-01, -6.14102483e-02, -1.26254231e-01,\n",
              "         3.31710801e-02,  1.00532465e-01, -4.13491577e-02,  2.66514271e-02,\n",
              "        -1.11485822e-02, -6.17084838e-02, -8.94994289e-02,  3.15079093e-02,\n",
              "        -2.17296019e-01, -2.22518984e-02,  1.20728485e-01, -7.38248378e-02,\n",
              "         7.74305984e-02, -8.35145712e-02, -1.40600830e-01, -2.50096507e-02,\n",
              "        -1.78069219e-01, -2.21309096e-01, -9.00693312e-02,  1.87629893e-01,\n",
              "         2.98454855e-02,  7.88886547e-02, -6.74258247e-02, -6.18889183e-02,\n",
              "        -2.61343539e-01, -2.46385470e-01, -2.05329284e-01,  1.09569088e-01,\n",
              "         2.01460049e-01, -2.73397081e-02, -1.68521747e-01,  5.91726303e-02,\n",
              "        -3.42567302e-02, -2.96141535e-01, -1.38793141e-01, -1.49090424e-01,\n",
              "        -4.10140306e-02,  1.17143974e-01,  1.46180555e-01,  1.02152258e-01,\n",
              "         1.86008587e-01, -1.63833141e-01, -2.90262252e-01, -3.14801723e-01,\n",
              "         2.54469842e-01,  8.17705542e-02, -1.37639388e-01, -1.69240341e-01,\n",
              "        -5.68107553e-02, -2.31387857e-02, -6.47521764e-02, -1.95191443e-01,\n",
              "         5.87436184e-03,  9.09895673e-02,  1.41187817e-01, -1.05292229e-02,\n",
              "        -1.61661372e-01, -2.93301016e-01,  1.99304149e-02, -2.50681013e-01,\n",
              "        -1.46332055e-01, -7.35315606e-02, -4.69907761e-01, -1.53929144e-01,\n",
              "        -9.52172354e-02,  1.30655751e-01, -2.76820928e-01, -9.53164175e-02,\n",
              "        -2.87503172e-02, -5.74723594e-02, -3.48659366e-01, -4.84591350e-02,\n",
              "        -1.45678548e-02, -2.22955376e-01, -1.34416223e-02, -2.07108244e-01,\n",
              "         9.43176076e-02,  5.06238453e-02, -4.31924537e-02, -1.24929503e-01,\n",
              "        -2.27029272e-03,  1.72667593e-01,  4.46764641e-02,  1.20761335e-01,\n",
              "        -1.36980349e-02, -1.30656704e-01, -4.96618077e-02, -2.55254153e-02,\n",
              "        -8.18734765e-02, -6.10780716e-02, -8.13003108e-02, -6.00507110e-03,\n",
              "        -9.04128775e-02, -8.01378787e-02,  1.56858023e-02, -4.40234616e-02,\n",
              "        -6.38618246e-02, -8.27512071e-02,  2.78726101e-01, -1.21772982e-01,\n",
              "         1.10707797e-01, -2.24537745e-01, -2.09943406e-04, -7.49509782e-02,\n",
              "        -9.15527269e-02, -1.17922857e-01, -2.14488402e-01,  1.11116633e-01,\n",
              "         1.16527908e-01, -9.36985090e-02,  2.06282572e-03, -9.24397260e-02,\n",
              "        -1.72942847e-01, -3.18695694e-01, -2.03644156e-01, -2.63968349e-01,\n",
              "         2.43382990e-01, -2.18581874e-04, -1.45984203e-01, -2.16314211e-01,\n",
              "        -2.66790539e-01, -2.28193477e-01,  9.08438638e-02, -2.28871629e-01,\n",
              "        -2.38862231e-01, -1.78615153e-01, -2.06886716e-02, -2.63987243e-01,\n",
              "        -5.96555583e-02, -3.38733867e-02, -3.63748223e-02,  7.00874329e-02,\n",
              "         4.79523614e-02, -1.50409341e-01, -1.34554133e-01, -8.89853835e-02,\n",
              "         1.11748867e-01, -1.40495539e-01, -3.24991822e-01,  3.61095220e-02,\n",
              "        -9.28842425e-02, -8.39695334e-03,  6.91327080e-02,  1.62938341e-01,\n",
              "        -5.83339706e-02, -1.36386693e-01,  2.48415861e-02, -3.69604528e-01,\n",
              "        -8.99216235e-02, -1.12506561e-01,  5.28672040e-02,  4.14623916e-02,\n",
              "         8.37502107e-02, -2.02193871e-01, -1.65658835e-02, -6.15380481e-02,\n",
              "        -3.12058896e-01,  1.22926287e-01, -2.01667342e-02, -3.20716739e-01,\n",
              "         3.14053968e-02, -4.29115556e-02, -1.32976755e-01, -1.60980046e-01,\n",
              "        -1.51278496e-01,  7.92357400e-02, -3.95384692e-02, -2.75145154e-02],\n",
              "       dtype=float32),\n",
              " array([[-0.14023858,  0.16169709, -0.04543324, ...,  0.6046469 ,\n",
              "         -0.33716175, -0.91106904],\n",
              "        [ 0.13643232, -0.29438493,  0.40449187, ..., -0.07712085,\n",
              "         -0.0573827 , -0.02281649],\n",
              "        [-0.25858244, -0.16524126,  0.02901126, ..., -0.15472142,\n",
              "          0.3884492 ,  0.08391818],\n",
              "        ...,\n",
              "        [-0.34309638,  0.60932964,  0.04980153, ..., -0.21204731,\n",
              "         -0.7640366 , -0.32040212],\n",
              "        [-0.5735605 , -0.10234077, -0.7174031 , ..., -0.77501214,\n",
              "         -0.00745839,  0.04461551],\n",
              "        [-0.388758  , -0.05865003, -0.28462213, ..., -0.34764308,\n",
              "          0.13086784,  0.06708451]], dtype=float32),\n",
              " array([ 0.05802552, -0.32128394, -0.13080397, -0.1608174 ,  0.01100305,\n",
              "        -0.09772933, -0.06476521, -0.34661493,  0.7399463 ,  0.07345116],\n",
              "       dtype=float32)]"
            ]
          },
          "metadata": {},
          "execution_count": 50
        }
      ]
    },
    {
      "cell_type": "code",
      "source": [
        "import numpy as np\n",
        "np.argmax(model.predict(x_test))"
      ],
      "metadata": {
        "colab": {
          "base_uri": "https://localhost:8080/"
        },
        "id": "YV17R0uFeC7Y",
        "outputId": "46d6321b-b9f8-4840-c500-51de20132624"
      },
      "execution_count": null,
      "outputs": [
        {
          "output_type": "execute_result",
          "data": {
            "text/plain": [
              "90355"
            ]
          },
          "metadata": {},
          "execution_count": 60
        }
      ]
    },
    {
      "cell_type": "code",
      "source": [
        "y_pred = np.argmax(model.predict(x_test),axis=1)\n",
        "y_pred"
      ],
      "metadata": {
        "colab": {
          "base_uri": "https://localhost:8080/"
        },
        "id": "2HFT3FMwcig2",
        "outputId": "64f80303-21e5-47d9-ef8e-b86b3e10c2f8"
      },
      "execution_count": null,
      "outputs": [
        {
          "output_type": "execute_result",
          "data": {
            "text/plain": [
              "array([5, 5, 5, ..., 5, 5, 5])"
            ]
          },
          "metadata": {},
          "execution_count": 63
        }
      ]
    },
    {
      "cell_type": "code",
      "source": [
        "from sklearn.metrics import accuracy_score\n",
        "accuracy_score(y_test,y_pred)"
      ],
      "metadata": {
        "colab": {
          "base_uri": "https://localhost:8080/"
        },
        "id": "pZQEujfDdUh_",
        "outputId": "93c8f6fb-3a16-4b99-caeb-ec3af67c64cf"
      },
      "execution_count": null,
      "outputs": [
        {
          "output_type": "execute_result",
          "data": {
            "text/plain": [
              "0.0892"
            ]
          },
          "metadata": {},
          "execution_count": 64
        }
      ]
    },
    {
      "cell_type": "code",
      "source": [
        "model.save('MNIST.hdfs')"
      ],
      "metadata": {
        "colab": {
          "base_uri": "https://localhost:8080/"
        },
        "id": "fwRMkuM2dUmf",
        "outputId": "b84998ff-b00d-49db-d3d5-4301993c0145"
      },
      "execution_count": null,
      "outputs": [
        {
          "output_type": "stream",
          "name": "stderr",
          "text": [
            "WARNING:absl:Found untraced functions such as softmax_layer_call_fn, softmax_layer_call_and_return_conditional_losses, softmax_layer_call_fn, softmax_layer_call_and_return_conditional_losses, softmax_layer_call_and_return_conditional_losses while saving (showing 5 of 5). These functions will not be directly callable after loading.\n"
          ]
        },
        {
          "output_type": "stream",
          "name": "stdout",
          "text": [
            "INFO:tensorflow:Assets written to: MNIST.hdfs/assets\n"
          ]
        },
        {
          "output_type": "stream",
          "name": "stderr",
          "text": [
            "INFO:tensorflow:Assets written to: MNIST.hdfs/assets\n"
          ]
        }
      ]
    },
    {
      "cell_type": "markdown",
      "source": [
        "# ***___ THE END ___***"
      ],
      "metadata": {
        "id": "jkjbhbasfnCM"
      }
    }
  ]
}